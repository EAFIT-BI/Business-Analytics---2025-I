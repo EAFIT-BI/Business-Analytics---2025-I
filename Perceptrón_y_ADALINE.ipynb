{
  "nbformat": 4,
  "nbformat_minor": 0,
  "metadata": {
    "colab": {
      "provenance": [],
      "authorship_tag": "ABX9TyMMpCRYz7T//kVF8fED7J5C",
      "include_colab_link": true
    },
    "kernelspec": {
      "name": "python3",
      "display_name": "Python 3"
    },
    "language_info": {
      "name": "python"
    }
  },
  "cells": [
    {
      "cell_type": "markdown",
      "metadata": {
        "id": "view-in-github",
        "colab_type": "text"
      },
      "source": [
        "<a href=\"https://colab.research.google.com/github/EAFIT-BI/Business-Analytics---2025-I/blob/main/Perceptr%C3%B3n_y_ADALINE.ipynb\" target=\"_parent\"><img src=\"https://colab.research.google.com/assets/colab-badge.svg\" alt=\"Open In Colab\"/></a>"
      ]
    },
    {
      "cell_type": "markdown",
      "source": [
        "# Perceptrón\n",
        "\n",
        "Es la undidad más pequeña de una red neuronal. Usa una función de activación de tipo escalón. Un perceptrón de varias capas se llama MLP. El perceptrón en su forma más sencilla sólo es capaz de clasificar observaciones que sean linealmente separables.\n",
        "En este caso, y a modo de ejemplo, usaremos una clasificación de un  monto contable. Clasificaremos las transacciones entre *Gastos* (0) e *Ingresos* (1), así\n",
        "\n",
        "|Monto|Tipo|\n",
        "|---|---|\n",
        "|500|1|\n",
        "|300|1|\n",
        "|-200|0|\n",
        "|-1500|0|"
      ],
      "metadata": {
        "id": "04kSIpwf8bf4"
      }
    },
    {
      "cell_type": "code",
      "source": [
        "# Probaremos la implementación con Keras\n",
        "# Cargamos librerías\n",
        "import numpy as np\n",
        "import tensorflow as tf\n",
        "from tensorflow import keras"
      ],
      "metadata": {
        "id": "A9KmNkEh-hUJ"
      },
      "execution_count": 1,
      "outputs": []
    },
    {
      "cell_type": "code",
      "source": [
        "# Como tenemos tan pocos datos, haremos todas la implementación\n",
        "# con un solo conjunto, sin embargo es importante resaltar\n",
        "# que se debe hacer la partición train|test o train|dev|test\n",
        "\n",
        "# Generamos el conjunto de datos tanto para la X como para la y\n",
        "monto = np.array([[500], [300], [-200], [-1500]], dtype = np.float32) # Montos\n",
        "tipo = np.array([[1], [1], [0], [0]], dtype = np.float32) # Ingresos o gastos (clase)"
      ],
      "metadata": {
        "id": "Lo9VS9al_BNA"
      },
      "execution_count": 2,
      "outputs": []
    },
    {
      "cell_type": "code",
      "source": [
        "# Instanciamos nuestro modelo de perceptrón.\n",
        "# units es el número de neuronas. El perceptrón en su forma\n",
        "# básica solo tiene 1. La función de activación debe ser un escalón\n",
        "# pero keras no la tiene. Usaremos la función mas parecida que es\n",
        "# un sigmoide\n",
        "modelo = keras.Sequential()\n",
        "# Agregamos una capa de una neurona a la red.\n",
        "modelo.add(keras.layers.Dense(units=1, activation='sigmoid'))"
      ],
      "metadata": {
        "id": "hACWyGd3_cHF"
      },
      "execution_count": 3,
      "outputs": []
    },
    {
      "cell_type": "code",
      "source": [
        "# Compilamos el modelo. En este paso, se determina el\n",
        "# optimizador, la función de pérdida y la métrica.\n",
        "# En este caso, tendremos como optimizador gradiente descendente\n",
        "# estocástico, como función de pérdida la crossentropía binaria\n",
        "# y como métrica el desempeño (accuracy)\n",
        "modelo.compile(optimizer='sgd', loss='binary_crossentropy',\n",
        "               metrics=['accuracy'])"
      ],
      "metadata": {
        "id": "WWDrG6F0ApoA"
      },
      "execution_count": 4,
      "outputs": []
    },
    {
      "cell_type": "code",
      "source": [
        "# Entrenamos el modelo. Una época significa entrenar la\n",
        "# red neuronal con todos los datos de entrada una vez. Un\n",
        "# pase hacia adelante para el cálculo de la salida y un pase\n",
        "# hacia atrás para calcular el error.\n",
        "# A veces las épocas se componen por lotes, esta es otra\n",
        "# estrategia para entrenar el modelo (batch)\n",
        "modelo.fit(monto, tipo, epochs=10)"
      ],
      "metadata": {
        "colab": {
          "base_uri": "https://localhost:8080/"
        },
        "collapsed": true,
        "id": "zeh47_5YAXWI",
        "outputId": "2a010300-2d82-4127-b76b-4280826ca246"
      },
      "execution_count": 5,
      "outputs": [
        {
          "output_type": "stream",
          "name": "stdout",
          "text": [
            "Epoch 1/10\n",
            "\u001b[1m1/1\u001b[0m \u001b[32m━━━━━━━━━━━━━━━━━━━━\u001b[0m\u001b[37m\u001b[0m \u001b[1m1s\u001b[0m 653ms/step - accuracy: 1.0000 - loss: 0.0000e+00\n",
            "Epoch 2/10\n",
            "\u001b[1m1/1\u001b[0m \u001b[32m━━━━━━━━━━━━━━━━━━━━\u001b[0m\u001b[37m\u001b[0m \u001b[1m0s\u001b[0m 44ms/step - accuracy: 1.0000 - loss: 0.0000e+00\n",
            "Epoch 3/10\n",
            "\u001b[1m1/1\u001b[0m \u001b[32m━━━━━━━━━━━━━━━━━━━━\u001b[0m\u001b[37m\u001b[0m \u001b[1m0s\u001b[0m 59ms/step - accuracy: 1.0000 - loss: 0.0000e+00\n",
            "Epoch 4/10\n",
            "\u001b[1m1/1\u001b[0m \u001b[32m━━━━━━━━━━━━━━━━━━━━\u001b[0m\u001b[37m\u001b[0m \u001b[1m0s\u001b[0m 47ms/step - accuracy: 1.0000 - loss: 0.0000e+00\n",
            "Epoch 5/10\n",
            "\u001b[1m1/1\u001b[0m \u001b[32m━━━━━━━━━━━━━━━━━━━━\u001b[0m\u001b[37m\u001b[0m \u001b[1m0s\u001b[0m 139ms/step - accuracy: 1.0000 - loss: 0.0000e+00\n",
            "Epoch 6/10\n",
            "\u001b[1m1/1\u001b[0m \u001b[32m━━━━━━━━━━━━━━━━━━━━\u001b[0m\u001b[37m\u001b[0m \u001b[1m0s\u001b[0m 57ms/step - accuracy: 1.0000 - loss: 0.0000e+00\n",
            "Epoch 7/10\n",
            "\u001b[1m1/1\u001b[0m \u001b[32m━━━━━━━━━━━━━━━━━━━━\u001b[0m\u001b[37m\u001b[0m \u001b[1m0s\u001b[0m 59ms/step - accuracy: 1.0000 - loss: 0.0000e+00\n",
            "Epoch 8/10\n",
            "\u001b[1m1/1\u001b[0m \u001b[32m━━━━━━━━━━━━━━━━━━━━\u001b[0m\u001b[37m\u001b[0m \u001b[1m0s\u001b[0m 58ms/step - accuracy: 1.0000 - loss: 0.0000e+00\n",
            "Epoch 9/10\n",
            "\u001b[1m1/1\u001b[0m \u001b[32m━━━━━━━━━━━━━━━━━━━━\u001b[0m\u001b[37m\u001b[0m \u001b[1m0s\u001b[0m 47ms/step - accuracy: 1.0000 - loss: 0.0000e+00\n",
            "Epoch 10/10\n",
            "\u001b[1m1/1\u001b[0m \u001b[32m━━━━━━━━━━━━━━━━━━━━\u001b[0m\u001b[37m\u001b[0m \u001b[1m0s\u001b[0m 47ms/step - accuracy: 1.0000 - loss: 0.0000e+00\n"
          ]
        },
        {
          "output_type": "execute_result",
          "data": {
            "text/plain": [
              "<keras.src.callbacks.history.History at 0x7a0917243bd0>"
            ]
          },
          "metadata": {},
          "execution_count": 5
        }
      ]
    },
    {
      "cell_type": "code",
      "source": [
        "# Ahora calcularemos la métrica de desempeño\n",
        "pred = modelo.predict(monto)\n",
        "# Para corregir el no uso del escalo, tenemos que umbralizar\n",
        "pred_clases = (pred >= 0.5).astype(int) # Fijamos un umbral de 0.5\n",
        "# Imprimimos las clases\n",
        "print(pred_clases)\n",
        "\n",
        "# Calculamos el accuracy\n",
        "# Comparamos la predicción con el valor verdadero del tipo\n",
        "accuracy = np.mean(pred_clases.flatten() == tipo.flatten())\n",
        "print(f'Accuracy: {accuracy}')\n"
      ],
      "metadata": {
        "colab": {
          "base_uri": "https://localhost:8080/"
        },
        "collapsed": true,
        "id": "x6Ghm3bgC_L9",
        "outputId": "edcc8069-81d2-4b83-c761-6ee46e23fc8d"
      },
      "execution_count": 10,
      "outputs": [
        {
          "output_type": "stream",
          "name": "stdout",
          "text": [
            "\u001b[1m1/1\u001b[0m \u001b[32m━━━━━━━━━━━━━━━━━━━━\u001b[0m\u001b[37m\u001b[0m \u001b[1m0s\u001b[0m 78ms/step\n",
            "[[1]\n",
            " [1]\n",
            " [0]\n",
            " [0]]\n",
            "Accuracy: 1.0\n"
          ]
        }
      ]
    },
    {
      "cell_type": "markdown",
      "source": [
        "# ADALINE (ADAptive LInear NEuron)\n",
        "\n",
        "ADALINE es similar al perceptrón, pero en lugar de usar una función de activación escalón, usa una función de activación lineal y minimiza el error cuadrático medio. Esto lo hace más adecuado para problemas de regresión y clasificación pero con gradiente descendente.\n",
        "\n",
        "Para este caso, crearemos un conjunto de datos relacionado con la aprobación de créditos. Las características serán:\n",
        "- Ingresos mensuales (en miles de dólares)\n",
        "- Deuda actual (en miles de dólares)\n",
        "\n",
        "|Ingresos|Deuda|Aprobado|\n",
        "|---|---|---|\n",
        "|5|2.0|1|\n",
        "|3|1.5|0|\n",
        "|4|1.0|1|\n",
        "|2|2.5|0|\n",
        "|6|1.2|1|\n",
        "|3.5|2.2|0|"
      ],
      "metadata": {
        "id": "ueKINfHoEh0g"
      }
    },
    {
      "cell_type": "code",
      "source": [
        "# Cargamos librerías y definimos los datos\n",
        "\n",
        "import numpy as np\n",
        "import tensorflow as tf\n",
        "from tensorflow import keras\n",
        "\n",
        "# Generamos el conjunto de datos tanto para la X como para la y\n",
        "X = np.array([\n",
        "      [5, 2.0],\n",
        "      [3, 1.5],\n",
        "      [4, 1.0],\n",
        "      [2, 2.5],\n",
        "      [6, 1.2],\n",
        "      [3.5, 2.2]], dtype = np.float32)\n",
        "\n",
        "y = np.array([1, 0, 1, 0, 1, 0], dtype = np.float32)\n"
      ],
      "metadata": {
        "id": "DLWHaPJBFkqy"
      },
      "execution_count": 12,
      "outputs": []
    },
    {
      "cell_type": "code",
      "source": [
        "# Instanciamos el modelo\n",
        "modelo_adaline = keras.Sequential()\n",
        "# Agregamos una capa de una neurona a la red.\n",
        "modelo_adaline.add(keras.layers.Dense(units=1, activation='linear'))"
      ],
      "metadata": {
        "id": "4Et5cIcOGOJy"
      },
      "execution_count": 13,
      "outputs": []
    },
    {
      "cell_type": "code",
      "source": [
        "# Compilamos el modelo\n",
        "modelo_adaline.compile(optimizer='sgd', loss='mean_squared_error',\n",
        "                       metrics = ['mean_squared_error'])"
      ],
      "metadata": {
        "id": "F9bjL5kDGs7G"
      },
      "execution_count": 14,
      "outputs": []
    },
    {
      "cell_type": "code",
      "source": [
        "# Entrenamos el modelo.\n",
        "# Al establecer el parámetro 'verbose' determinamos qué tanto\n",
        "# mensajes del entrenamiento queremos ver\n",
        "modelo_adaline.fit(X, y, epochs=10, verbose=1)"
      ],
      "metadata": {
        "colab": {
          "base_uri": "https://localhost:8080/"
        },
        "collapsed": true,
        "id": "X26pDyz0G7f_",
        "outputId": "eb3d52f7-fd3e-43bd-cb60-8c31e5a792b3"
      },
      "execution_count": 15,
      "outputs": [
        {
          "output_type": "stream",
          "name": "stdout",
          "text": [
            "Epoch 1/10\n",
            "\u001b[1m1/1\u001b[0m \u001b[32m━━━━━━━━━━━━━━━━━━━━\u001b[0m\u001b[37m\u001b[0m \u001b[1m1s\u001b[0m 539ms/step - loss: 5.3992 - mean_squared_error: 5.3992\n",
            "Epoch 2/10\n",
            "\u001b[1m1/1\u001b[0m \u001b[32m━━━━━━━━━━━━━━━━━━━━\u001b[0m\u001b[37m\u001b[0m \u001b[1m0s\u001b[0m 56ms/step - loss: 2.0333 - mean_squared_error: 2.0333\n",
            "Epoch 3/10\n",
            "\u001b[1m1/1\u001b[0m \u001b[32m━━━━━━━━━━━━━━━━━━━━\u001b[0m\u001b[37m\u001b[0m \u001b[1m0s\u001b[0m 46ms/step - loss: 0.8581 - mean_squared_error: 0.8581\n",
            "Epoch 4/10\n",
            "\u001b[1m1/1\u001b[0m \u001b[32m━━━━━━━━━━━━━━━━━━━━\u001b[0m\u001b[37m\u001b[0m \u001b[1m0s\u001b[0m 45ms/step - loss: 0.4455 - mean_squared_error: 0.4455\n",
            "Epoch 5/10\n",
            "\u001b[1m1/1\u001b[0m \u001b[32m━━━━━━━━━━━━━━━━━━━━\u001b[0m\u001b[37m\u001b[0m \u001b[1m0s\u001b[0m 61ms/step - loss: 0.2986 - mean_squared_error: 0.2986\n",
            "Epoch 6/10\n",
            "\u001b[1m1/1\u001b[0m \u001b[32m━━━━━━━━━━━━━━━━━━━━\u001b[0m\u001b[37m\u001b[0m \u001b[1m0s\u001b[0m 76ms/step - loss: 0.2443 - mean_squared_error: 0.2443\n",
            "Epoch 7/10\n",
            "\u001b[1m1/1\u001b[0m \u001b[32m━━━━━━━━━━━━━━━━━━━━\u001b[0m\u001b[37m\u001b[0m \u001b[1m0s\u001b[0m 135ms/step - loss: 0.2223 - mean_squared_error: 0.2223\n",
            "Epoch 8/10\n",
            "\u001b[1m1/1\u001b[0m \u001b[32m━━━━━━━━━━━━━━━━━━━━\u001b[0m\u001b[37m\u001b[0m \u001b[1m0s\u001b[0m 81ms/step - loss: 0.2117 - mean_squared_error: 0.2117\n",
            "Epoch 9/10\n",
            "\u001b[1m1/1\u001b[0m \u001b[32m━━━━━━━━━━━━━━━━━━━━\u001b[0m\u001b[37m\u001b[0m \u001b[1m0s\u001b[0m 134ms/step - loss: 0.2051 - mean_squared_error: 0.2051\n",
            "Epoch 10/10\n",
            "\u001b[1m1/1\u001b[0m \u001b[32m━━━━━━━━━━━━━━━━━━━━\u001b[0m\u001b[37m\u001b[0m \u001b[1m0s\u001b[0m 131ms/step - loss: 0.2000 - mean_squared_error: 0.2000\n"
          ]
        },
        {
          "output_type": "execute_result",
          "data": {
            "text/plain": [
              "<keras.src.callbacks.history.History at 0x7a09110f7d50>"
            ]
          },
          "metadata": {},
          "execution_count": 15
        }
      ]
    },
    {
      "cell_type": "code",
      "source": [
        "# Revisamos la métrica de desempeño\n",
        "mse = modelo_adaline.evaluate(X, y)\n",
        "print(f'MSE: {mse}')"
      ],
      "metadata": {
        "colab": {
          "base_uri": "https://localhost:8080/"
        },
        "id": "0bzvHJYpHixm",
        "outputId": "e9e1fa83-5139-44b3-fe11-2e0fea9fd7d8"
      },
      "execution_count": 16,
      "outputs": [
        {
          "output_type": "stream",
          "name": "stdout",
          "text": [
            "\u001b[1m1/1\u001b[0m \u001b[32m━━━━━━━━━━━━━━━━━━━━\u001b[0m\u001b[37m\u001b[0m \u001b[1m0s\u001b[0m 167ms/step - loss: 0.1955 - mean_squared_error: 0.1955\n",
            "MSE: [0.195495143532753, 0.195495143532753]\n"
          ]
        }
      ]
    }
  ]
}